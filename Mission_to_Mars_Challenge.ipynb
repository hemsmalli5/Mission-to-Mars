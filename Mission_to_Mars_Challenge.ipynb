{
 "cells": [
  {
   "cell_type": "code",
   "execution_count": 1,
   "metadata": {},
   "outputs": [
    {
     "name": "stdout",
     "output_type": "stream",
     "text": [
      "Requirement already satisfied: splinter in c:\\python38\\lib\\site-packages (0.13.0)\n",
      "Requirement already satisfied: selenium>=3.141.0 in c:\\python38\\lib\\site-packages (from splinter) (3.141.0)\n",
      "Requirement already satisfied: six in c:\\python38\\lib\\site-packages (from splinter) (1.15.0)\n",
      "Requirement already satisfied: urllib3 in c:\\python38\\lib\\site-packages (from selenium>=3.141.0->splinter) (1.25.10)\n"
     ]
    },
    {
     "name": "stderr",
     "output_type": "stream",
     "text": [
      "WARNING: You are using pip version 20.2; however, version 20.2.2 is available.\n",
      "You should consider upgrading via the 'c:\\python38\\python.exe -m pip install --upgrade pip' command.\n"
     ]
    }
   ],
   "source": [
    "!pip install splinter"
   ]
  },
  {
   "cell_type": "code",
   "execution_count": 2,
   "metadata": {},
   "outputs": [
    {
     "name": "stderr",
     "output_type": "stream",
     "text": [
      "'which' is not recognized as an internal or external command,\n",
      "operable program or batch file.\n"
     ]
    }
   ],
   "source": [
    "# Path to chromedriver\n",
    "!which chromedriver"
   ]
  },
  {
   "cell_type": "code",
   "execution_count": 1,
   "metadata": {},
   "outputs": [],
   "source": [
    "from splinter import Browser\n",
    "from bs4 import BeautifulSoup \n",
    "import pandas as pd"
   ]
  },
  {
   "cell_type": "code",
   "execution_count": 2,
   "metadata": {},
   "outputs": [],
   "source": [
    "# Windows users\n",
    "executable_path = {'executable_path':'chromedriver.exe'}\n",
    "# browser = Browser('chrome', **executable_path, headless=False)\n",
    "browser = Browser('chrome', **executable_path)"
   ]
  },
  {
   "cell_type": "markdown",
   "metadata": {},
   "source": [
    "# Visit the Mars NASA news site"
   ]
  },
  {
   "cell_type": "code",
   "execution_count": 38,
   "metadata": {},
   "outputs": [
    {
     "data": {
      "text/plain": [
       "True"
      ]
     },
     "execution_count": 38,
     "metadata": {},
     "output_type": "execute_result"
    }
   ],
   "source": [
    "# Visit the mars nasa news site\n",
    "url = 'https://mars.nasa.gov/news/'\n",
    "browser.visit(url)\n",
    "\n",
    "#Optional delay for loading the page\n",
    "browser.is_element_present_by_css(\"ul.item_list li.slide\", wait_time=1)"
   ]
  },
  {
   "cell_type": "code",
   "execution_count": 44,
   "metadata": {},
   "outputs": [
    {
     "name": "stdout",
     "output_type": "stream",
     "text": [
      "<li class=\"slide\"><div class=\"image_and_description_container\"><a href=\"/news/8737/nasa-establishes-board-to-initially-review-mars-sample-return-plans/\" target=\"_self\"><div class=\"rollover_description\"><div class=\"rollover_description_inner\">The board will assist with analysis of current plans and goals for one of the most difficult missions humanity has ever undertaken.</div><div class=\"overlay_arrow\"><img alt=\"More\" src=\"/assets/overlay-arrow.png\"/></div></div><div class=\"list_image\"><img alt=\"Mars 2020 With Sample Tubes (Artist's Concept)\" src=\"/system/news_items/list_view_images/8737_24760_PIA23492-320x240.jpg\"/></div><div class=\"bottom_gradient\"><div><h3>NASA Establishes Board to Initially Review Mars Sample Return Plans</h3></div></div></a><div class=\"list_text\"><div class=\"list_date\">August 14, 2020</div><div class=\"content_title\"><a href=\"/news/8737/nasa-establishes-board-to-initially-review-mars-sample-return-plans/\" target=\"_self\">NASA Establishes Board to Initially Review Mars Sample Return Plans</a></div><div class=\"article_teaser_body\">The board will assist with analysis of current plans and goals for one of the most difficult missions humanity has ever undertaken.</div></div></div></li>\n"
     ]
    }
   ],
   "source": [
    "html = browser.html\n",
    "news_soup = BeautifulSoup(html, 'html.parser')\n",
    "slide_elem = news_soup.select_one('ul.item_list li.slide')\n",
    "print(slide_elem)"
   ]
  },
  {
   "cell_type": "markdown",
   "metadata": {},
   "source": [
    "\n",
    "<body> We want to collect the most recent news article along with its summary from this particular website. Remember, the code for this will eventually be used in an application that will scrape live data with the click of a button—this site is dynamic and the articles will change frequently, which is why  removing the manual task of retrieving each new article is necessary.</body>"
   ]
  },
  {
   "cell_type": "code",
   "execution_count": 48,
   "metadata": {},
   "outputs": [
    {
     "data": {
      "text/plain": [
       "<div class=\"content_title\"><a href=\"/news/8737/nasa-establishes-board-to-initially-review-mars-sample-return-plans/\" target=\"_self\">NASA Establishes Board to Initially Review Mars Sample Return Plans</a></div>"
      ]
     },
     "execution_count": 48,
     "metadata": {},
     "output_type": "execute_result"
    }
   ],
   "source": [
    "slide_elem.find(\"div\", class_='content_title')"
   ]
  },
  {
   "cell_type": "code",
   "execution_count": 49,
   "metadata": {},
   "outputs": [
    {
     "data": {
      "text/plain": [
       "'NASA Establishes Board to Initially Review Mars Sample Return Plans'"
      ]
     },
     "execution_count": 49,
     "metadata": {},
     "output_type": "execute_result"
    }
   ],
   "source": [
    "# Use the parent element to find the first `a` tag and save it as `news_title`\n",
    "news_title = slide_elem.find(\"div\", class_='content_title').get_text()\n",
    "news_title"
   ]
  },
  {
   "cell_type": "code",
   "execution_count": 50,
   "metadata": {},
   "outputs": [
    {
     "data": {
      "text/plain": [
       "'The board will assist with analysis of current plans and goals for one of the most difficult missions humanity has ever undertaken.'"
      ]
     },
     "execution_count": 50,
     "metadata": {},
     "output_type": "execute_result"
    }
   ],
   "source": [
    "# Use the parent element to find the paragraph text\n",
    "news_p = slide_elem.find('div', class_=\"article_teaser_body\").get_text()\n",
    "news_p"
   ]
  },
  {
   "cell_type": "markdown",
   "metadata": {},
   "source": [
    " Above step could provide summary"
   ]
  },
  {
   "cell_type": "markdown",
   "metadata": {},
   "source": [
    "### Featured Image"
   ]
  },
  {
   "cell_type": "code",
   "execution_count": 51,
   "metadata": {},
   "outputs": [],
   "source": [
    "# Visit URL\n",
    "url = 'https://www.jpl.nasa.gov/spaceimages/?search=&category=Mars'\n",
    "browser.visit(url)"
   ]
  },
  {
   "cell_type": "code",
   "execution_count": 52,
   "metadata": {},
   "outputs": [],
   "source": [
    "# Find and click the full image button\n",
    "full_image_elem = browser.find_by_id('full_image')\n",
    "full_image_elem.click()"
   ]
  },
  {
   "cell_type": "code",
   "execution_count": 53,
   "metadata": {},
   "outputs": [],
   "source": [
    "# Find the more info button and click that\n",
    "browser.is_element_present_by_text('more info', wait_time=1)\n",
    "more_info_elem = browser.links.find_by_partial_text('more info')\n",
    "more_info_elem.click()"
   ]
  },
  {
   "cell_type": "code",
   "execution_count": 55,
   "metadata": {},
   "outputs": [],
   "source": [
    "# Parse the resulting html with soup\n",
    "html = browser.html\n",
    "img_soup = BeautifulSoup(html, 'html.parser')"
   ]
  },
  {
   "cell_type": "code",
   "execution_count": 56,
   "metadata": {},
   "outputs": [
    {
     "data": {
      "text/plain": [
       "'/spaceimages/images/largesize/PIA22574_hires.jpg'"
      ]
     },
     "execution_count": 56,
     "metadata": {},
     "output_type": "execute_result"
    }
   ],
   "source": [
    "# Find the relative image url\n",
    "img_url_rel = img_soup.select_one('figure.lede a img').get(\"src\")\n",
    "img_url_rel"
   ]
  },
  {
   "cell_type": "code",
   "execution_count": 57,
   "metadata": {},
   "outputs": [
    {
     "data": {
      "text/plain": [
       "'https://www.jpl.nasa.gov/spaceimages/images/largesize/PIA22574_hires.jpg'"
      ]
     },
     "execution_count": 57,
     "metadata": {},
     "output_type": "execute_result"
    }
   ],
   "source": [
    "# Use the base URL to create an absolute URL\n",
    "img_url = f'https://www.jpl.nasa.gov{img_url_rel}'\n",
    "img_url"
   ]
  },
  {
   "cell_type": "markdown",
   "metadata": {},
   "source": [
    "### Extract Facts"
   ]
  },
  {
   "cell_type": "code",
   "execution_count": 60,
   "metadata": {},
   "outputs": [
    {
     "data": {
      "text/html": [
       "<div>\n",
       "<style scoped>\n",
       "    .dataframe tbody tr th:only-of-type {\n",
       "        vertical-align: middle;\n",
       "    }\n",
       "\n",
       "    .dataframe tbody tr th {\n",
       "        vertical-align: top;\n",
       "    }\n",
       "\n",
       "    .dataframe thead th {\n",
       "        text-align: right;\n",
       "    }\n",
       "</style>\n",
       "<table border=\"1\" class=\"dataframe\">\n",
       "  <thead>\n",
       "    <tr style=\"text-align: right;\">\n",
       "      <th></th>\n",
       "      <th>value</th>\n",
       "    </tr>\n",
       "    <tr>\n",
       "      <th>description</th>\n",
       "      <th></th>\n",
       "    </tr>\n",
       "  </thead>\n",
       "  <tbody>\n",
       "    <tr>\n",
       "      <th>Equatorial Diameter:</th>\n",
       "      <td>6,792 km</td>\n",
       "    </tr>\n",
       "    <tr>\n",
       "      <th>Polar Diameter:</th>\n",
       "      <td>6,752 km</td>\n",
       "    </tr>\n",
       "    <tr>\n",
       "      <th>Mass:</th>\n",
       "      <td>6.39 × 10^23 kg (0.11 Earths)</td>\n",
       "    </tr>\n",
       "    <tr>\n",
       "      <th>Moons:</th>\n",
       "      <td>2 (Phobos &amp; Deimos)</td>\n",
       "    </tr>\n",
       "    <tr>\n",
       "      <th>Orbit Distance:</th>\n",
       "      <td>227,943,824 km (1.38 AU)</td>\n",
       "    </tr>\n",
       "    <tr>\n",
       "      <th>Orbit Period:</th>\n",
       "      <td>687 days (1.9 years)</td>\n",
       "    </tr>\n",
       "    <tr>\n",
       "      <th>Surface Temperature:</th>\n",
       "      <td>-87 to -5 °C</td>\n",
       "    </tr>\n",
       "    <tr>\n",
       "      <th>First Record:</th>\n",
       "      <td>2nd millennium BC</td>\n",
       "    </tr>\n",
       "    <tr>\n",
       "      <th>Recorded By:</th>\n",
       "      <td>Egyptian astronomers</td>\n",
       "    </tr>\n",
       "  </tbody>\n",
       "</table>\n",
       "</div>"
      ],
      "text/plain": [
       "                                              value\n",
       "description                                        \n",
       "Equatorial Diameter:                       6,792 km\n",
       "Polar Diameter:                            6,752 km\n",
       "Mass:                 6.39 × 10^23 kg (0.11 Earths)\n",
       "Moons:                          2 (Phobos & Deimos)\n",
       "Orbit Distance:            227,943,824 km (1.38 AU)\n",
       "Orbit Period:                  687 days (1.9 years)\n",
       "Surface Temperature:                   -87 to -5 °C\n",
       "First Record:                     2nd millennium BC\n",
       "Recorded By:                   Egyptian astronomers"
      ]
     },
     "execution_count": 60,
     "metadata": {},
     "output_type": "execute_result"
    }
   ],
   "source": [
    "df = pd.read_html('http://space-facts.com/mars/')[0]\n",
    "df.columns=['description', 'value']\n",
    "df.set_index('description', inplace=True)\n",
    "df"
   ]
  },
  {
   "cell_type": "code",
   "execution_count": 61,
   "metadata": {},
   "outputs": [
    {
     "data": {
      "text/plain": [
       "'<table border=\"1\" class=\"dataframe\">\\n  <thead>\\n    <tr style=\"text-align: right;\">\\n      <th></th>\\n      <th>value</th>\\n    </tr>\\n    <tr>\\n      <th>description</th>\\n      <th></th>\\n    </tr>\\n  </thead>\\n  <tbody>\\n    <tr>\\n      <th>Equatorial Diameter:</th>\\n      <td>6,792 km</td>\\n    </tr>\\n    <tr>\\n      <th>Polar Diameter:</th>\\n      <td>6,752 km</td>\\n    </tr>\\n    <tr>\\n      <th>Mass:</th>\\n      <td>6.39 × 10^23 kg (0.11 Earths)</td>\\n    </tr>\\n    <tr>\\n      <th>Moons:</th>\\n      <td>2 (Phobos &amp; Deimos)</td>\\n    </tr>\\n    <tr>\\n      <th>Orbit Distance:</th>\\n      <td>227,943,824 km (1.38 AU)</td>\\n    </tr>\\n    <tr>\\n      <th>Orbit Period:</th>\\n      <td>687 days (1.9 years)</td>\\n    </tr>\\n    <tr>\\n      <th>Surface Temperature:</th>\\n      <td>-87 to -5 °C</td>\\n    </tr>\\n    <tr>\\n      <th>First Record:</th>\\n      <td>2nd millennium BC</td>\\n    </tr>\\n    <tr>\\n      <th>Recorded By:</th>\\n      <td>Egyptian astronomers</td>\\n    </tr>\\n  </tbody>\\n</table>'"
      ]
     },
     "execution_count": 61,
     "metadata": {},
     "output_type": "execute_result"
    }
   ],
   "source": [
    "df.to_html()"
   ]
  },
  {
   "cell_type": "markdown",
   "metadata": {},
   "source": [
    "# Challenge"
   ]
  },
  {
   "cell_type": "markdown",
   "metadata": {},
   "source": [
    "### Hemispheres"
   ]
  },
  {
   "cell_type": "code",
   "execution_count": 12,
   "metadata": {},
   "outputs": [],
   "source": [
    "from splinter import Browser\n",
    "from bs4 import BeautifulSoup \n",
    "import pandas as pd\n",
    "\n",
    "# Windows users\n",
    "executable_path = {'executable_path':'chromedriver.exe'}\n",
    "# browser = Browser('chrome', **executable_path, headless=False)\n",
    "browser = Browser('chrome', **executable_path)\n",
    "\n",
    "\n",
    "url = \"https://astrogeology.usgs.gov/search/results?q=hemisphere+enhanced&k1=target&v1=Mars\"\n",
    "browser.visit(url)\n",
    "\n",
    "hemisphere_image_urls = []\n",
    "\n",
    "#first get the list of all hemispheres\n",
    "links = browser.find_by_css('a.product-item h3')\n",
    "\n",
    "#Loop throug the links, click the link and find the sample anchor and return href\n",
    "for index in range(len(links)):\n",
    "    hemisphere = {}\n",
    "    \n",
    "    # Find the elements on each loop to avoid a state element exception\n",
    "    browser.find_by_css('a.product-item h3')[index].click()\n",
    "    \n",
    "    # Find the sample images, anchor the tag and extract href\n",
    "    # sample_element = browser.find_link_by_text(\"Sample\").first\n",
    "    \n",
    "    sample_element = browser.links.find_by_text(\"Sample\").first\n",
    "    hemisphere[\"img_url\"] = sample_element[\"href\"]\n",
    "    \n",
    "    #Get Hemesphere title\n",
    "    hemisphere[\"title\"] = browser.find_by_css(\"h2.title\").text\n",
    "    \n",
    "    #Store the image urls to dictionary\n",
    "    hemisphere_image_urls.append(hemisphere)\n",
    "    \n",
    "    # Navigate backward\n",
    "    browser.back()\n",
    "                        "
   ]
  },
  {
   "cell_type": "code",
   "execution_count": 13,
   "metadata": {},
   "outputs": [
    {
     "data": {
      "text/plain": [
       "[{'img_url': 'https://astropedia.astrogeology.usgs.gov/download/Mars/Viking/cerberus_enhanced.tif/full.jpg',\n",
       "  'title': 'Cerberus Hemisphere Enhanced'},\n",
       " {'img_url': 'https://astropedia.astrogeology.usgs.gov/download/Mars/Viking/schiaparelli_enhanced.tif/full.jpg',\n",
       "  'title': 'Schiaparelli Hemisphere Enhanced'},\n",
       " {'img_url': 'https://astropedia.astrogeology.usgs.gov/download/Mars/Viking/syrtis_major_enhanced.tif/full.jpg',\n",
       "  'title': 'Syrtis Major Hemisphere Enhanced'},\n",
       " {'img_url': 'https://astropedia.astrogeology.usgs.gov/download/Mars/Viking/valles_marineris_enhanced.tif/full.jpg',\n",
       "  'title': 'Valles Marineris Hemisphere Enhanced'}]"
      ]
     },
     "execution_count": 13,
     "metadata": {},
     "output_type": "execute_result"
    }
   ],
   "source": [
    "hemisphere_image_urls"
   ]
  },
  {
   "cell_type": "markdown",
   "metadata": {},
   "source": [
    "### Mars Weather "
   ]
  },
  {
   "cell_type": "code",
   "execution_count": 15,
   "metadata": {},
   "outputs": [
    {
     "name": "stdout",
     "output_type": "stream",
     "text": [
      "<table class=\"mb_table\" id=\"weather_observation\" style=\"width:100%;\">\n",
      " <thead>\n",
      "  <tr>\n",
      "   <th colspan=\"2\" scope=\"col\">\n",
      "    Time\n",
      "   </th>\n",
      "   <th colspan=\"3\" id=\"temperature_lbl\" scope=\"col\">\n",
      "    Air Temperature (\n",
      "    <span class=\"lbl_fahrenheit\">\n",
      "     °F\n",
      "    </span>\n",
      "    <span class=\"slash\">\n",
      "     |\n",
      "    </span>\n",
      "    <span class=\"lbl_celsius fadeBlack\">\n",
      "     °C\n",
      "    </span>\n",
      "    )\n",
      "   </th>\n",
      "   <th colspan=\"4\" id=\"windspeed_lbl\" scope=\"col\">\n",
      "    Wind Speed (\n",
      "    <span class=\"lbl_mph\">\n",
      "     mph\n",
      "    </span>\n",
      "    <span class=\"slash\">\n",
      "     |\n",
      "    </span>\n",
      "    <span class=\"lbl_mps fadeBlack\">\n",
      "     m/s\n",
      "    </span>\n",
      "    )\n",
      "   </th>\n",
      "   <th colspan=\"3\" id=\"pressure_lbl\" scope=\"col\">\n",
      "    Pressure (Pa)\n",
      "   </th>\n",
      "  </tr>\n",
      " </thead>\n",
      " <tbody>\n",
      "  <tr id=\"weather_top\">\n",
      "   <th class=\"sol\" scope=\"row\">\n",
      "    Date\n",
      "   </th>\n",
      "   <th class=\"sol\" scope=\"row\">\n",
      "    Sol\n",
      "   </th>\n",
      "   <td class=\"temperature max\">\n",
      "    Max.\n",
      "   </td>\n",
      "   <td class=\"temperature avg\">\n",
      "    Avg.\n",
      "   </td>\n",
      "   <td class=\"temperature min\">\n",
      "    Min.\n",
      "   </td>\n",
      "   <td class=\"windspeed max\">\n",
      "    Max.\n",
      "   </td>\n",
      "   <td class=\"windspeed avg\">\n",
      "    Avg.\n",
      "   </td>\n",
      "   <td class=\"windspeed min\">\n",
      "    Min.\n",
      "   </td>\n",
      "   <td class=\"windspeed direction\">\n",
      "    Direction\n",
      "    <br/>\n",
      "    <span style=\"font-size:x-small\">\n",
      "     (most common)\n",
      "    </span>\n",
      "   </td>\n",
      "   <td class=\"pressure max\">\n",
      "    Max.\n",
      "   </td>\n",
      "   <td class=\"pressure avg\">\n",
      "    Avg.\n",
      "   </td>\n",
      "   <td class=\"pressure min\">\n",
      "    Min.\n",
      "   </td>\n",
      "  </tr>\n",
      "  <tr>\n",
      "   <th class=\"sol\" scope=\"row\">\n",
      "    Aug. 15, 2020\n",
      "   </th>\n",
      "   <th class=\"sol\" scope=\"row\">\n",
      "    611\n",
      "   </th>\n",
      "   <td class=\"temperature max\">\n",
      "    <span class=\"fahrenheit\">\n",
      "     <nobr>\n",
      "      3.4° F\n",
      "     </nobr>\n",
      "    </span>\n",
      "    <span class=\"celsius\" style=\"display: none;\">\n",
      "     <nobr>\n",
      "      -15.9° C\n",
      "     </nobr>\n",
      "    </span>\n",
      "   </td>\n",
      "   <td class=\"temperature avg\">\n",
      "    <span class=\"fahrenheit\">\n",
      "     <nobr>\n",
      "      -78.3° F\n",
      "     </nobr>\n",
      "    </span>\n",
      "    <span class=\"celsius\" style=\"display: none;\">\n",
      "     <nobr>\n",
      "      -61.3° C\n",
      "     </nobr>\n",
      "    </span>\n",
      "   </td>\n",
      "   <td class=\"temperature min\">\n",
      "    <span class=\"fahrenheit\">\n",
      "     <nobr>\n",
      "      -136.9° F\n",
      "     </nobr>\n",
      "    </span>\n",
      "    <span class=\"celsius\" style=\"display: none;\">\n",
      "     <nobr>\n",
      "      -93.8° C\n",
      "     </nobr>\n",
      "    </span>\n",
      "   </td>\n",
      "   <td class=\"windspeed max\">\n",
      "    <span class=\"mph\">\n",
      "     40.2\n",
      "    </span>\n",
      "    <span class=\"mps\" style=\"display:none\">\n",
      "     18\n",
      "    </span>\n",
      "   </td>\n",
      "   <td class=\"windspeed avg\">\n",
      "    <span class=\"mph\">\n",
      "     16.3\n",
      "    </span>\n",
      "    <span class=\"mps\" style=\"display:none\">\n",
      "     7.3\n",
      "    </span>\n",
      "   </td>\n",
      "   <td class=\"windspeed min\">\n",
      "    <span class=\"mph\">\n",
      "     0.6\n",
      "    </span>\n",
      "    <span class=\"mps\" style=\"display:none\">\n",
      "     0.3\n",
      "    </span>\n",
      "   </td>\n",
      "   <td class=\"windspeed point\">\n",
      "    WNW\n",
      "   </td>\n",
      "   <td class=\"pressure max\">\n",
      "    807.5\n",
      "   </td>\n",
      "   <td class=\"pressure avg\">\n",
      "    788.3\n",
      "   </td>\n",
      "   <td class=\"pressure min\">\n",
      "    756\n",
      "   </td>\n",
      "  </tr>\n",
      " </tbody>\n",
      "</table>\n"
     ]
    }
   ],
   "source": [
    "from splinter import Browser\n",
    "from bs4 import BeautifulSoup as soup\n",
    "import pandas as pd\n",
    "\n",
    "# Windows users\n",
    "executable_path = {'executable_path':'chromedriver.exe'}\n",
    "# browser = Browser('chrome', **executable_path, headless=False)\n",
    "browser = Browser('chrome', **executable_path)\n",
    "\n",
    "\n",
    "url = \"https://mars.nasa.gov/insight/weather/\"\n",
    "browser.visit(url)\n",
    "\n",
    "# Parse the data\n",
    "html = browser.html\n",
    "weather_soup = soup(html, 'html.parser')\n",
    "\n",
    "#Scrape weather report table\n",
    "weather_table = weather_soup.find('table', class_=\"mb_table\")\n",
    "print(weather_table.prettify())"
   ]
  },
  {
   "cell_type": "code",
   "execution_count": null,
   "metadata": {},
   "outputs": [],
   "source": []
  }
 ],
 "metadata": {
  "kernelspec": {
   "display_name": "PythonData",
   "language": "python",
   "name": "pythondata"
  },
  "language_info": {
   "codemirror_mode": {
    "name": "ipython",
    "version": 3
   },
   "file_extension": ".py",
   "mimetype": "text/x-python",
   "name": "python",
   "nbconvert_exporter": "python",
   "pygments_lexer": "ipython3",
   "version": "3.7.7"
  }
 },
 "nbformat": 4,
 "nbformat_minor": 4
}
